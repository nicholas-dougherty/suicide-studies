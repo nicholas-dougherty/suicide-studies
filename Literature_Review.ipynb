{
 "cells": [
  {
   "cell_type": "markdown",
   "id": "0e66c76e",
   "metadata": {},
   "source": [
    "## _Suicide and Its Determinants_\n",
    "        International suicide rates have been relatively stable across time. Even when Durkheim ([1897] 1951) gleaned the differences between suicides among Protestants and Catholics in the nineteenth century, this was the case; but in recent decades it has become an increasingly alarming presence in national death rates, garnering attention worldwide through elements of publicity. In addition to the approximately one million people worldwide who die of suicide annually, there is a large range of four to eight million others who attempt suicide or cause themselves self-harm deliberately (Leenaars 2003). This modern world has decriminalized suicide and transferred its control and oversight to psychiatry—and although law is not at the forefront any longer, there are unmistakable penalties for the mere inclination toward suicide (Szasz 2011). This consequently creates stigmatism, especially among would-be self-reporters and their gatekeepers and fellow concerned citizens. Nonetheless, the evidence about the rates and distribution of suicide in the world show that suicide belongs among the ills that socially responsive political entities must confront, and so in efforts to reduce suicidal ideations and actions, numerous government-funded organizations and industries have sprawled out across the world (Button 2016).     \n",
    "               \n",
    "        Modern suicide prevention protocols have many varying areas of focus and expertise. Some components of intervention rely on the continual development of surveillance systems to detect suicide clusters—which are groupings of heightened suicides based on proximity in time and location—and contagion, which is when exposure to the suicidal behavior, successful or not, of one or more people influences others to attempt it themselves. Another key component of prevention, which is more widespread if not universal, is raising awareness and providing counseling sessions, on the lesser end, and institutionalization augmented by pharmaceuticals on the more extreme side. There are also cooperative efforts being instated with local and national media outlets which aim to report suicide according to specifically established guidelines, also with equalization when depicting suicides alongside other deaths to avoid the aforementioned stigmatization. However, even though many countries have established guidelines for the media on how suicide should be reported, the effects of these implementations thus far are inconclusive (Ramchand, et al 2015).      \n",
    "                \n",
    "        As far as studying and reckoning suicide goes, inconclusive data are not at all uncommon. Neither are disagreements or indecisiveness about what its determinants are. The most dominant discursive framework for explaining, and therefore predicting, suicidal behavior is one of individual psychopathology. This makes it so suicide is an issue played out almost exclusively within ones psyche, causing the external sociopolitical conditions to be excluded (Button 2016). Even when the social environments are taken under consideration, the primary stress of most studies investigates the genetic and/or biological factors which predispose self-destructive responses to environmental stressors (Traskman-Benz and Mann 2000; Williams and Pollock 2000). The emphases on internal predispositions have a significant influence on recommended suicide prevention strategies; chief among them are psychotherapeutic and pharmacological (Button 2016).\n",
    "        \n",
    "        Despite the predominance of excluding social considerations when weighing a person’s “suicidality,’’ there are alternative viewpoints which may serve my research more effectively. Focusing only on the internalizations of psychically troubled individuals will bring my studies nowhere, since I intend to determine which prevention methods are most effective internationally, and so instead, I will use clinical psychologist Thomas Joiner’s (2005) explanation of suicide, which puts it in reference to two primary categories: perceived burdensomeness and thwarted belongingness. The differential distribution of sociopolitical patterns such as growing income inequality, heteronormativity, repeated exposure to violence and/or traumatic stressors, retirement and others will be included in my analyses when drawing comparisons between suicide rates, so that I may also observe which kinds of prevention plans are emplaced which address these particulars (Button 2016).\n"
   ]
  },
  {
   "cell_type": "markdown",
   "id": "0ee5f26d",
   "metadata": {},
   "source": [
    "## Theoretical Typologies of Suicide; Conceptualizations of Its Nature\n",
    "\n",
    "       Durkheim ([1897] 1951) initiated studies of this nature, and his explanations of the differing effects of social factors and the ways that they may lead to suicide have been widely influential on his readership and future researchers. He considered suicides as pertaining to four categories: anomic, altruistic, egoistic, and fatalistic: “anomic” suicides stem from a sense of disconnection from society and weakened social cohesion—it occurs during serious social, economic, or political upheaval; “altruistic” suicides result when an individual feels that social forces are excessively regulating them—this is suicide for the sake of a religious or political cause; “egoistic” suicides occur when work, familial, and communal ties or other social bonds break or dissolve—elderly people in particular are highly susceptible to egoistic suicide; “fatalistic” suicides transpire under extreme social regulation, where the conditions are oppressive to the point of denying agency—this is usually the case made for prison suicides. \n",
    "       \n",
    "       Before Durkheim had ever devised these studies and categories, large-scale suicide prohibition was underway, beginning in the eighteenth century. This is when successful acts of suicide were attributed to and written off as merely a matter of illness, particularly, insanity. By the twentieth century, insanity also encompassed unsuccessful suicides, termed para-suicidal behavior, and self-harm. Persons suspected of suicidal intent underwent incarceration, an ostensible means of prevention, while simultaneously a form of punishment for perceptively causing societal and familial dysfunction (Szasz 2011). The societal impact is rendered as such: the intention, and especially the successful commission, of suicide affects between eight and ten people, other than the actor (Leenaars 2003).\n",
    "       \n",
    "       Durkheim’s approaches, although intriguing and helpful for compartmentalizing suicides into specific orders, is an altogether sociological form of theoretic research, without much in the way of establishing empirical or causal relationships. A group of three researchers devised a particularly inventive strategy: they were mostly interested in the structural aspects of suicides, but were simultaneously investigating individual-level processes, as well (Hedström, Liu, and Nordvik 2008). By doing this they were able to empirically assess the importance of network effects while also controlling for potentially confounding micro factors. They were able to find links between micro and macro: the ways individuals’ suicide risks are influenced by their social environments, while simultaneously noting the social domains where suicides take place and how these domains morph others’ exposure and influence (Hedström, Liu, and Nordvik 2008). This seems critical in giving validity to the concepts of contagion and suicide clusters mentioned earlier and some of their computations will help form my own. \n"
   ]
  },
  {
   "cell_type": "markdown",
   "id": "268c9976",
   "metadata": {},
   "source": [
    "## Pitfalls, Complications, Failed Methods, Missing Information: Inspiration for Studies\n",
    "            \t\n",
    "      The most frequently incorporated approach to suicide prevention has been a matter of determining how to accurately assess, identify, and intervene with individuals in crisis. Even then, the interviewees or patients are typically looked at in regards to their psychopathology, and because counseling sessions are limited in time and availability, there are many missed opportunities to determine causes of crisis (Button 2016). Studies document that a large number of suicides are completed by patients who visited a primary care physician shortly before their death, and despite this, it goes to show that patients often are unwilling to share their feelings of depression or hopelessness with them. Men, who by and large are more likely to commit suicide than women, are less likely to reveal distress in office visits. Patients who have already decided they are dead-set on killing themselves will usually deny suicidal intent, lest they otherwise get handed over to an asylum or psychiatric hospital wing. Moreover, primary care offices are notoriously busy, and primary care physicians have minimal training in detecting suicidal patients. Even when they are detected, they will many times refuse a referral to a psychiatrist or other mental health professional (Hardie 2009).\n",
    "      \n",
    "       Previous failures of suicide prevention can be explained in multitudinous ways. In most countries the topic is taboo, and the reports themselves carry stigma—historically, some figures have been intentionally distorted as a consequence of this, thus hindering even the most basic research of earlier statistics. A staunch example of this lies in South Africa, which reports crude numbers, and excludes black—South Africa sometimes counts Asians and people of color alongside whites, but when they do, the reason and criteria are unclear, making these rates (even those reported by the World Health Organization [WHO]) unreliable and invalid. Another way to highlight this, the State Statistics Department of the USSR did not report statistical data on suicide before the mid 1980s; this makes determining the accuracy of numbers and rates difficult. The suicide rates given for China only account for 10 percent of the total population, making their reports unusable (Leenaars 2003).  \n",
    "       \n",
    "       Outside of reliability, some research methods are just ineffective. Ecological studies do not adequately control for individual-level risk factors, and in most cases it is not known who has actually had exposure to the suicide of another person (Hedström et al. 2008). When the Department of Defense reviews extant literature regarding the impact of their gatekeepers protocols, most of the studies they observe are either single-group or they otherwise contain a non-equivalent control group, with very few studies based in experimental designs. This makes it difficult for them to discern causal relationships in their data. Moreover, very few of their studies have measurements that examine the long-term effects of training or whether effects emerge over time. Even when they do have these data, it is usually based in educational, community, or workplace settings, serving them no direct purpose (Burnette, Ramchand, and Ayer 2005).\n",
    "       \n",
    "        Furthermore, as discussed above, most times suicide has been viewed as solely a consequence of physiochemical forces, thereby reducing other applicable aspects and natures and excluding them from the research process (Maris 1969). Some previous research (Agerbo 2005; Qin, Agerbo and Mortensen 2002; Runeson and Asberg 2003) clearly suggests that high suicide risks are associated with family histories of suicidal behavior, and familial transference of psychiatric disorders (Egeland and Sussex 1985), but not much is known about the mechanisms which may contribute to this. If data are collected via hospital records, then suicide attempts that do not involve hospitalization would not be counted, resulting in important omissions. Tracking referrals and visitation services can also be challenging due to patient privacy regulations; on top of this, it is difficult to interpret data for individuals who do not receive follow-up services (Sahota and Kastelic 2012).\n",
    "        \n",
    "        Despite these complications, thanks to the shift from mostly qualitative to quantitative means of measurement over the past two decades, it is undoubtedly feasible to observe suicide prevention protocol on an international scale and factor it in such a way to determine the effectiveness of certain methods."
   ]
  },
  {
   "cell_type": "markdown",
   "id": "bee2bf99-221d-4a7a-8195-7db7f72bf1b0",
   "metadata": {},
   "source": [
    "# __Theory and Hypotheses__\n",
    "\n",
    "## _Durkheim Repeatedly Delivers_\n",
    "\n",
    "       The importance of Durkheim’s contributions to the theoretical foundations of suicide studies must not be understated. So although his name has been dropped many times already, an essential element of his theories needs to be extrapolated before proceeding any further, as it is a fundamental aspect of my hypotheses. Suicide: A Study in Sociology (Durkheim [1897] 1951) concerns itself at times with the intensity by which modernization and, as Durkheim viewed it, its disruptive effects on social ties, influences suicidal behavior. His theories elicit suggestions that a constant and proportional, linear increase of suicides are bound to the social fragmentation accompanying modernization. Souped-up modernizing movements increase social isolation, and as this happens, an individual caught in the socioeconomic vortex is more likely to depend only on himself to the extent that no rules of conduct outside of those founded by his private, personal interests become recognizable; from there, egoism spreads cancerously, causing the individual to lose their sense of identity, and their grip on life itself, leading to a lifeless body made that way by its host’s volition (Condorelli 2016). “Egoistic suicide,” which was defined above, is a distinctive by-product of modernity, and is a consequence of a certain duality inherent in freedom, as well. That is to say that the persistent progress of individualism frees humanity from tradition’s restraints, yet it comes at the price of isolation and, as paradoxical as it seems, the loss of one’s identity. The Durkheimian theory that suicide is inversely related to the degree of group integration, such as domestic, religious, or political groups, is now an established sociological concept (Wray, Colen, and Pescosoledo 2001). Contemporary sociological analyses have empirically supported general formulations of this theory, concluding  that individualism in religious and domestic domains via secularization, faith diffusions, decreases in marriage and birth rates, and/or increases in divorce rates all have led to rising suicide rates (Condorelli 2016).\n",
    "\n",
    "## _An Eraser over the Usual Insistences_\n",
    "\n",
    "       This all brings to mind the impact of a life collectivized by shared memories or values being itself deterrence against suicide, and it also gives added weight to distinguishing suicide as an act that does not necessarily need to consider mental illness as a rule-of-thumb for factoring a cause or precipitating the act of self-death. A particularly illuminating series of studies concerning suicide among schizophrenics—who account for approximately ten percent of the suicide rate in numerous countries—demonstrate that their risk of committing suicide seems largely influenced by conditions such as weakened social relationship nets, i.e. living alone, single, separated, et cetera (Drake et al. 1984; Harkavy-Friedman et al. 1999). In the realms of research pertaining to psychotherapeutic efficacy trials, research continually demonstrates that suicide is often committed when symptoms regress while under pharmacological treatment (Hawton et al. 2005) and that social isolation—where the absence of rewarding relationships with relatives and friends are the focus—can, and often does, seriously undermine the odds that any rehabilitative intervention will be successful. All this gives the impression that “non-sociological suicide theories require the intervention of social theorizing, specifically, in fact, Durkheim’s” (Condorelli 2016: 6).\n",
    "       \n",
    "## _Adaptivity, Recognition, Acceptance_\n",
    "\n",
    "        Human beings are highly adaptable. After the initial shocks of modernization, people become accustomed to living with the progress their states have undergone, or at the very least, it takes the form of inescapable normalcy to some, and a means of adequately pursuing happiness for others. On top of this, major powers are well suited to guide their states’ inhabitants, and to have a meaningful impact on their lives. Conversely, the emergence of a successfully modernized state can birth a materialistic culture, with individuals geared more towards egoism than anything else. Uncertainty abounds when it comes to suicide, there truly are so many different explanations and theories that can be given.\n",
    "        \n",
    "        States such as these can reduce their suicide rates by further educating their physicians to recognize suicidal cues, while adjusting the infrastructure that otherwise generally seeks to stigmatize or isolate suicide as chiefly a mental illness, without considering that perhaps the state is not cognizant of the social isolation created by a rapidly changing modern world.\n",
    "   "
   ]
  },
  {
   "cell_type": "markdown",
   "id": "39ee0e70",
   "metadata": {},
   "source": [
    "# __Research Design__\n",
    "\n",
    "         This research’s principle aim now is to generate a plan of action that will facilitate effective measurement of the relationships between the economic factors which may overtly lead to the Durkheimian models of isolation and despondency that blend into suicidality. The population used to perform this research is the collective 194 member states of the World Health Organization (WHO), of which a sample group comprising 20 countries from Asia and Europe along with the United States is designated. Eleven of the countries selected have higher suicide rates than the United States, and the other 8 are trailing closely behind. This sample could feasibly account for rates by region or by individual country, which can be subsequently divided based on sex; the unit of analysis is decidedly country-level, however, so information pertaining to regional suicide rates will be disregarded, and the figures given for both sexes will be analyzed without separating between males and females (WHO 2019).\n",
    "       \n",
    "### _Dependent Variable_\n",
    "\n",
    "          The dependent variable herein is a ratio measurement of the number of suicides carried out in a country’s population per every 100,000 inhabitants. WHO maintains a Global Health Observatory (GHO) data repository from which suicide rates data can be readily obtained. WHO incorporates an age-standardized mortality rate with its unit of measure set to deaths per 100,000 population. WHO’s expected frequency of data collection is continuous and it aims for comparability across countries and time (WHO 2019). The estimator used to this end is Ordinary Least Squares (OLS) regression.\n",
    "        \n",
    "### _Key Explanatory Variable (Independent Variable)_\n",
    "\n",
    "          The economic forces which lend themselves to poverty, isolation, and despondency are what is expected to reveal a correlation between economic growth, or lack thereof, and suicide rates among the sample population. The utilization of gross domestic product (GDP) adjusted for purchasing power parity (PPP) per capita makes for one of the fairest and most simple measures of living standards. PPP-adjusted GDP per capita ratio data is taken from the PENN World’s official website (PENN WORLD 2019), and are labeled as CGDPe and are measured by 100 billion USD. The states listed are all modernized as of 2000 and suicide rates are available in five year intervals as of that year as well, so the temporal domain for collection is from 2000 to 2016 (Tipps 1973).\n",
    "                \n",
    "### _Control Variables_\n",
    "\n",
    "          The confounding effects of inflation and unemployment, i.e. “misery index” provide a good picture of economic downturn as well and will be used as the control variable.\n",
    "                \n",
    "### _Expected Relationships_\n",
    "\n",
    "           Countries with higher CGDPe and CGDPo per capita will carry a negative relationship, whereby in most cases these countries will have lower suicide rates per 100,000 than lower-ranking PPP polities."
   ]
  },
  {
   "cell_type": "code",
   "execution_count": null,
   "id": "54e3304d",
   "metadata": {},
   "outputs": [],
   "source": []
  }
 ],
 "metadata": {
  "kernelspec": {
   "display_name": "Python 3 (ipykernel)",
   "language": "python",
   "name": "python3"
  },
  "language_info": {
   "codemirror_mode": {
    "name": "ipython",
    "version": 3
   },
   "file_extension": ".py",
   "mimetype": "text/x-python",
   "name": "python",
   "nbconvert_exporter": "python",
   "pygments_lexer": "ipython3",
   "version": "3.9.7"
  }
 },
 "nbformat": 4,
 "nbformat_minor": 5
}
