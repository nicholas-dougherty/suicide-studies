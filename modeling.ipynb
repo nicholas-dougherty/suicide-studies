{
 "cells": [
  {
   "cell_type": "code",
   "execution_count": 21,
   "id": "f48420e3-c98f-4af4-8aec-cd9ad4787fec",
   "metadata": {},
   "outputs": [],
   "source": [
    "import pandas as pd\n",
    "import numpy as np\n",
    "import describe as tatl\n",
    "import wrangle as get\n",
    "import model as mod\n",
    "from collections import Counter\n",
    "\n",
    "import matplotlib.pyplot as plt\n",
    "import seaborn as sns\n",
    "import scipy.stats as stats\n",
    "\n",
    "# feature selection imports\n",
    "from sklearn.feature_selection import SelectKBest, f_regression\n",
    "from sklearn.feature_selection import RFE\n",
    "from sklearn.model_selection import train_test_split\n",
    "\n",
    "# import scaling methods\n",
    "from sklearn.preprocessing import MinMaxScaler, RobustScaler, StandardScaler, QuantileTransformer\n",
    "# import modeling methods\n",
    "from sklearn.metrics import mean_squared_error\n",
    "from sklearn.linear_model import LinearRegression, LassoLars, TweedieRegressor\n",
    "from sklearn.preprocessing import PolynomialFeatures\n",
    "from sklearn.metrics import explained_variance_score\n",
    "from sklearn.model_selection import train_test_split\n",
    "from sklearn.metrics import precision_score, recall_score, f1_score, accuracy_score\n",
    "from sklearn.metrics import classification_report, confusion_matrix, ConfusionMatrixDisplay, mutual_info_score\n",
    "from sklearn.metrics import mean_squared_error, r2_score\n",
    "\n",
    "from mitosheet import *\n",
    "import plotly.express as px\n",
    "# import to remove warnings\n",
    "import warnings\n",
    "warnings.filterwarnings(\"ignore\")"
   ]
  },
  {
   "cell_type": "code",
   "execution_count": null,
   "id": "93971f46-10a0-499a-99bc-daca33024609",
   "metadata": {},
   "outputs": [],
   "source": [
    "# I'll need to drop country, year, and year_int"
   ]
  },
  {
   "cell_type": "code",
   "execution_count": 3,
   "id": "23e8a48e-d898-431a-9ca3-c7f5c7779d42",
   "metadata": {},
   "outputs": [
    {
     "name": "stdout",
     "output_type": "stream",
     "text": [
      "Dataframe Input received: Splitting Data .5/.3/.2.\n",
      "Train: (150, 23), Validate (90, 23), and Test (60, 23) are ready.    \n",
      " Proceed with EDA.\n"
     ]
    }
   ],
   "source": [
    "df, train, validate, test = get.wrangle_df()"
   ]
  },
  {
   "cell_type": "code",
   "execution_count": 4,
   "id": "b5c65811-3e39-4cc9-b323-a403acf93d4b",
   "metadata": {},
   "outputs": [
    {
     "data": {
      "text/plain": [
       "Index(['country', 'year', 'cgdpe', 'ctfp', 'cwtfp', 'rtfpna', 'rwtfpna',\n",
       "       'labsh', 'irr', 'delta', 'pl_con', 'pl_da', 'pl_gdpo', 'csh_c', 'csh_i',\n",
       "       'csh_g', 'csh_r', 'pl_c', 'pl_g', 'pl_x', 'pl_k', 'both_sexes',\n",
       "       'year_int'],\n",
       "      dtype='object')"
      ]
     },
     "execution_count": 4,
     "metadata": {},
     "output_type": "execute_result"
    }
   ],
   "source": [
    "train.columns"
   ]
  },
  {
   "cell_type": "code",
   "execution_count": 11,
   "id": "0da4c808-17f5-4576-a21d-80dfe5a6f2b0",
   "metadata": {},
   "outputs": [],
   "source": [
    "def wrangle_df2(target):\n",
    "    ''' \n",
    "    '''\n",
    "    df, train, validate, test = get.wrangle_df()\n",
    "    # first drop the columns I won't be using and that are unscalable. \n",
    "    train = train.drop(columns=(['country', 'year', 'year_int']))\n",
    "    validate = validate.drop(columns=(['country', 'year', 'year_int']))\n",
    "    test = test.drop(columns=(['country', 'year', 'year_int']))\n",
    "    \n",
    "    # split train into X (dataframe, drop target) & y (series, keep target only)\n",
    "    X_train = train.drop(columns=[target])\n",
    "    y_train = train[target]\n",
    "    \n",
    "    # split validate into X (dataframe, drop target) & y (series, keep target only)\n",
    "    X_validate = validate.drop(columns=[target])\n",
    "    y_validate = validate[target]\n",
    "    \n",
    "    # split test into X (dataframe, drop target) & y (series, keep target only)\n",
    "    X_test = test.drop(columns=[target])\n",
    "    y_test = test[target]\n",
    "    \n",
    "    # Change series into data frame for y \n",
    "    y_train = pd.DataFrame(y_train)\n",
    "    y_validate = pd.DataFrame(y_validate)\n",
    "    y_test = pd.DataFrame(y_test)\n",
    "    \n",
    "    return train, validate, test, X_train, y_train, X_validate, y_validate, X_test, y_test"
   ]
  },
  {
   "cell_type": "code",
   "execution_count": 2,
   "id": "42f5afed-d2c0-438e-842f-546aea37228e",
   "metadata": {},
   "outputs": [],
   "source": [
    "train, validate, test, X_train, y_train, X_validate, y_validate, X_test, y_test = get.wrangle_df2('both_sexes')"
   ]
  },
  {
   "cell_type": "code",
   "execution_count": 5,
   "id": "fdd9430f-c657-4adf-a6d9-0dfa143875fb",
   "metadata": {},
   "outputs": [],
   "source": [
    "#train, validate, test, X_train, y_train, X_validate, y_validate, X_test, y_test = wrangle_df2('both_sexes')"
   ]
  },
  {
   "cell_type": "code",
   "execution_count": 3,
   "id": "99dcee3f-8283-4200-94ac-9e1ceddd4d49",
   "metadata": {},
   "outputs": [
    {
     "data": {
      "text/plain": [
       "((150, 19), (90, 19), (60, 19))"
      ]
     },
     "execution_count": 3,
     "metadata": {},
     "output_type": "execute_result"
    }
   ],
   "source": [
    "X_train.shape, X_validate.shape, X_test.shape"
   ]
  },
  {
   "cell_type": "code",
   "execution_count": 8,
   "id": "df1849f9-ca96-4fea-8716-9372781e563f",
   "metadata": {},
   "outputs": [
    {
     "data": {
      "text/plain": [
       "((150, 1), (90, 1), (60, 1))"
      ]
     },
     "execution_count": 8,
     "metadata": {},
     "output_type": "execute_result"
    }
   ],
   "source": [
    "y_train.shape, y_validate.shape, y_test.shape"
   ]
  },
  {
   "cell_type": "code",
   "execution_count": 6,
   "id": "158feaef-1b7c-4c79-9d35-6c977c7fb219",
   "metadata": {},
   "outputs": [
    {
     "data": {
      "text/plain": [
       "((150, 19), (90, 19), (60, 19))"
      ]
     },
     "execution_count": 6,
     "metadata": {},
     "output_type": "execute_result"
    }
   ],
   "source": [
    "# checking again to make sure the updated wrangle function works\n",
    "X_train.shape, X_validate.shape, X_test.shape"
   ]
  },
  {
   "cell_type": "code",
   "execution_count": 7,
   "id": "f6526568-bf0d-4784-832f-8271ed595b61",
   "metadata": {},
   "outputs": [
    {
     "data": {
      "text/plain": [
       "((150, 1), (90, 1), (60, 1))"
      ]
     },
     "execution_count": 7,
     "metadata": {},
     "output_type": "execute_result"
    }
   ],
   "source": [
    "y_train.shape, y_validate.shape, y_test.shape\n",
    "# good to go. "
   ]
  },
  {
   "cell_type": "code",
   "execution_count": 8,
   "id": "25b7dd91-da9c-493d-85e2-fbd7e7bbe275",
   "metadata": {},
   "outputs": [
    {
     "data": {
      "text/plain": [
       "Index(['cgdpe', 'ctfp', 'cwtfp', 'rtfpna', 'rwtfpna', 'labsh', 'irr', 'delta',\n",
       "       'pl_con', 'pl_da', 'pl_gdpo', 'csh_c', 'csh_i', 'csh_g', 'csh_r',\n",
       "       'pl_c', 'pl_g', 'pl_x', 'pl_k'],\n",
       "      dtype='object')"
      ]
     },
     "execution_count": 8,
     "metadata": {},
     "output_type": "execute_result"
    }
   ],
   "source": [
    "X_train.columns"
   ]
  },
  {
   "cell_type": "code",
   "execution_count": 4,
   "id": "0a86a989-c0d1-41fc-9627-cd4680131d4c",
   "metadata": {},
   "outputs": [],
   "source": [
    "def scale_data(X_train, X_validate, X_test, return_scaler=False):\n",
    "    '''\n",
    "    Scales the 3 data splits.\n",
    "    takes in the train, validate, and test data splits and returns their scaled counterparts.\n",
    "    If return_scaler is true, the scaler object will be returned as well.\n",
    "    Target is not scaled.\n",
    "    columns_to_scale was originally used to check whether los_angeles and orange would cause trouble\n",
    "    '''\n",
    "    columns_to_scale = X_train.columns\n",
    "    \n",
    "    X_train_scaled = X_train.copy()\n",
    "    X_validate_scaled = X_validate.copy()\n",
    "    X_test_scaled = X_test.copy()\n",
    "    \n",
    "    scaler = MinMaxScaler()\n",
    "    scaler.fit(X_train_scaled[columns_to_scale])\n",
    "    \n",
    "    X_train_scaled[columns_to_scale] = scaler.transform(X_train[columns_to_scale])\n",
    "    X_validate_scaled[columns_to_scale] = scaler.transform(X_validate[columns_to_scale])\n",
    "    X_test_scaled[columns_to_scale] = scaler.transform(X_test[columns_to_scale])\n",
    "    \n",
    "    if return_scaler:\n",
    "        return scaler, X_train_scaled, X_validate_scaled, X_test_scaled\n",
    "    else:\n",
    "        return X_train_scaled, X_validate_scaled, X_test_scaled"
   ]
  },
  {
   "cell_type": "code",
   "execution_count": 5,
   "id": "8bfbebcb-1cad-4bd4-8187-043b76fedece",
   "metadata": {},
   "outputs": [],
   "source": [
    "X_train_scaled, X_validate_scaled, X_test_scaled = scale_data(X_train, X_validate, X_test)"
   ]
  },
  {
   "cell_type": "code",
   "execution_count": 16,
   "id": "bb9c2108-0a4a-42b4-a2e3-a2f6d9c46549",
   "metadata": {},
   "outputs": [
    {
     "name": "stdout",
     "output_type": "stream",
     "text": [
      "9.556160316779955\n",
      "9.076787512967103\n",
      "The Root Mean Squared Error of Mean is lower, indicating it will be the better baseline\n"
     ]
    }
   ],
   "source": [
    "baseline = pd.DataFrame({\n",
    "        'median' : [y_train.median()] * y_train.size,\n",
    "        'mean' : [y_train.mean()] * y_train.size\n",
    "    })\n",
    "\n",
    "median_rmse = mod._RMSE(y_train, baseline[\"median\"])\n",
    "mean_rmse = mod._RMSE(y_train, baseline[\"mean\"])\n",
    "\n",
    "print(median_rmse)\n",
    "print(mean_rmse)\n",
    "print('The Root Mean Squared Error of Mean is lower, indicating it will be the better baseline')"
   ]
  },
  {
   "cell_type": "code",
   "execution_count": null,
   "id": "3cdc0c27-a9c6-464b-a59a-b4609a4e4d8b",
   "metadata": {},
   "outputs": [],
   "source": [
    "# keep results in a dictionary."
   ]
  },
  {
   "cell_type": "code",
   "execution_count": 14,
   "id": "5c298a23-373f-45dd-8fe1-270bc9d4d465",
   "metadata": {},
   "outputs": [
    {
     "data": {
      "text/plain": [
       "{'baseline': {'RMSE': 9.076787512967103,\n",
       "  'R^2': 0.0,\n",
       "  'RMSE_val': 7.226867022642867,\n",
       "  'R^2_val': -0.15322056907666481}}"
      ]
     },
     "execution_count": 14,
     "metadata": {},
     "output_type": "execute_result"
    }
   ],
   "source": [
    "baseline_val = pd.Series([y_train.mean()] * y_validate.size)\n",
    "\n",
    "results = {\n",
    "    'baseline' : {\n",
    "        'RMSE' : mean_squared_error(y_train, baseline['mean'], squared = False),\n",
    "        'R^2' : r2_score(y_train, baseline['mean']),\n",
    "        'RMSE_val' : mean_squared_error(y_validate, baseline_val, squared = False),\n",
    "        'R^2_val' : r2_score(y_validate, baseline_val)\n",
    "    }\n",
    "}\n",
    "results"
   ]
  },
  {
   "cell_type": "code",
   "execution_count": null,
   "id": "689c8b12-f064-4a8b-b8f7-451534863890",
   "metadata": {},
   "outputs": [],
   "source": [
    "#def create_baseline(y_train, y_validate):\n",
    "#    # 1. Predict mean tax value \n",
    "#    sui_pred_mean = y_train.both_sexes.mean()\n",
    "#    y_train['sui_pred_mean'] = tv_pred_mean\n",
    "#    y_validate['tv_pred_mean'] = tv_pred_mean\n",
    "#    \n",
    "#    # 2. Predict median tax value \n",
    "#    tv_pred_median = y_train.tax_value.median()\n",
    "#    y_train['tv_pred_median'] = tv_pred_median\n",
    "#    y_validate['tv_pred_median'] = tv_pred_median\n",
    "#    \n",
    "#    # 3. RMSE of tv_pred_mean\n",
    "#    rmse_train = mean_squared_error(y_train.tax_value, y_train.tv_pred_mean) ** 0.5\n",
    "#    rmse_validate = mean_squared_error(y_validate.tax_value, y_validate.tv_pred_mean) ** 0.5\n",
    "#    \n",
    "#    print(\"RMSE using Mean\\nTrain/In-Sample: \", round(rmse_train, 2), \n",
    "#          \"\\nValidate/Out-of-Sample: \", round(rmse_validate, 2))\n",
    "#    \n",
    "#    # 4. RMSE of tv_pred_median\n",
    "#    rmse_train1 = mean_squared_error(y_train.tax_value, y_train.tv_pred_median) ** .5\n",
    "#    rmse_validate1 = mean_squared_error(y_validate.tax_value, y_validate.tv_pred_median) ** .5\n",
    "#    print('-----------')\n",
    "#    print(\"RMSE using Median\\nTrain/In-Sample: \", round(rmse_train1, 2), \n",
    "#          \"\\nValidate/Out-of-Sample: \", round(rmse_validate1, 2))\n",
    "#    \n",
    "#    return \n",
    "#    metric_df = pd.DataFrame(data=[{\n",
    "#        'model': 'mean_baseline',\n",
    "#        'rmse_outofsample': rmse_validate,\n",
    "#        'r^2_outofsample': explained_variance_score(y_validate.tax_value, y_validate.tv_pred_mean)}])"
   ]
  },
  {
   "cell_type": "code",
   "execution_count": 11,
   "id": "f4d8ee42-1586-4e8b-a9a1-d9721d4e052d",
   "metadata": {},
   "outputs": [
    {
     "data": {
      "text/plain": [
       "0      18.288667\n",
       "1      18.288667\n",
       "2      18.288667\n",
       "3      18.288667\n",
       "4      18.288667\n",
       "         ...    \n",
       "145    18.288667\n",
       "146    18.288667\n",
       "147    18.288667\n",
       "148    18.288667\n",
       "149    18.288667\n",
       "Name: mean, Length: 150, dtype: float64"
      ]
     },
     "execution_count": 11,
     "metadata": {},
     "output_type": "execute_result"
    }
   ],
   "source": [
    "mod.establish_baseline(y_train.both_sexes)"
   ]
  },
  {
   "cell_type": "code",
   "execution_count": 13,
   "id": "10247e91-0a96-44e7-9715-5305a75789ef",
   "metadata": {},
   "outputs": [],
   "source": [
    "# checked the scaled dataframes, all good"
   ]
  },
  {
   "cell_type": "code",
   "execution_count": 18,
   "id": "b4926957-3ac0-43d9-9546-f6fadad6788c",
   "metadata": {},
   "outputs": [],
   "source": [
    "# Select K Best\n",
    "from sklearn.feature_selection import SelectKBest, f_regression\n",
    "\n",
    "# parameters: f_regression stats test, give me 8 features\n",
    "f_selector = SelectKBest(f_regression, k=8)\n",
    "\n",
    "# find the top 8 X's correlated with y\n",
    "f_selector.fit(X_train_scaled, y_train)\n",
    "\n",
    "# boolean mask of whether the column was selected or not. \n",
    "feature_mask = f_selector.get_support()\n",
    "\n",
    "# get list of top K features. \n",
    "f_feature = X_train_scaled.iloc[:,feature_mask].columns.tolist()\n"
   ]
  },
  {
   "cell_type": "code",
   "execution_count": 19,
   "id": "3b350e1d-3912-4186-8b5d-89949b3b58d8",
   "metadata": {},
   "outputs": [
    {
     "data": {
      "text/plain": [
       "['ctfp', 'cwtfp', 'rtfpna', 'rwtfpna', 'labsh', 'csh_i', 'csh_r', 'pl_g']"
      ]
     },
     "execution_count": 19,
     "metadata": {},
     "output_type": "execute_result"
    }
   ],
   "source": [
    "f_feature"
   ]
  },
  {
   "cell_type": "code",
   "execution_count": 28,
   "id": "69b123a3-4f07-4c38-8efb-c046e178a44c",
   "metadata": {},
   "outputs": [],
   "source": [
    "def select_rfe(X_train_scaled, y_train, k, return_rankings=False, model=LinearRegression()):\n",
    "    # Use the passed model, LinearRegression by default\n",
    "    rfe = RFE(model, n_features_to_select=k)\n",
    "     # fit the data using RFE\n",
    "    rfe.fit(X_train_scaled, y_train)\n",
    "    # transforming data using RFE\n",
    "    X_rfe = rfe.fit_transform(X_train_scaled, y_train)\n",
    "    # get mask of columns selected as list\n",
    "    feature_mask = X_train_scaled.columns[rfe.support_].tolist()\n",
    "    if return_rankings:\n",
    "        rankings = pd.Series(dict(zip(X_train_scaled.columns, rfe.ranking_)))\n",
    "        return feature_mask, rankings, X_rfe\n",
    "    else:\n",
    "        return feature_mask, X_rfe"
   ]
  },
  {
   "cell_type": "code",
   "execution_count": 29,
   "id": "1645c457-eaf0-4d17-b4d8-cb364cc9b552",
   "metadata": {},
   "outputs": [],
   "source": [
    "feature_mask, rankings, X_rfe = select_rfe(X_train_scaled, y_train, 8, return_rankings=True)"
   ]
  },
  {
   "cell_type": "code",
   "execution_count": 30,
   "id": "6a026f2d-fdc0-45b6-8361-6a9234febaf2",
   "metadata": {},
   "outputs": [
    {
     "data": {
      "text/plain": [
       "array([[0.7438896 , 0.70860664, 0.65877004, ..., 0.42208548, 0.41337377,\n",
       "        0.52687528],\n",
       "       [0.07918327, 0.08689201, 0.13346079, ..., 0.0730772 , 0.0683474 ,\n",
       "        0.04527937],\n",
       "       [0.25471355, 0.28408365, 0.53767475, ..., 0.13115007, 0.12416487,\n",
       "        0.10151586],\n",
       "       ...,\n",
       "       [0.52877141, 0.47021142, 0.87533836, ..., 0.49126416, 0.47152805,\n",
       "        0.33258922],\n",
       "       [0.14196642, 0.16021364, 0.46939451, ..., 0.14416663, 0.12352098,\n",
       "        0.13628374],\n",
       "       [0.78982673, 0.86808235, 0.73583539, ..., 0.70673775, 0.66819018,\n",
       "        0.90009052]])"
      ]
     },
     "execution_count": 30,
     "metadata": {},
     "output_type": "execute_result"
    }
   ],
   "source": [
    "X_rfe"
   ]
  },
  {
   "cell_type": "code",
   "execution_count": 33,
   "id": "3b1d1ea4-abc1-4546-a478-f864d19f6387",
   "metadata": {},
   "outputs": [
    {
     "data": {
      "text/plain": [
       "['ctfp', 'cwtfp', 'rwtfpna', 'labsh', 'pl_con', 'pl_gdpo', 'pl_c', 'pl_g']"
      ]
     },
     "execution_count": 33,
     "metadata": {},
     "output_type": "execute_result"
    }
   ],
   "source": [
    "feature_mask"
   ]
  },
  {
   "cell_type": "markdown",
   "id": "e6472039-ccdb-49a5-9221-de9384ea4146",
   "metadata": {},
   "source": [
    "Recursive Feature Elimination is more accurate. \n",
    "RFE recursively removes attributes and then builds a model on those attributes that remain. The RFE method takes the machine learning algorithm to be used and the number of required features as input. It returns the ranking of all the variables, 1 being most important, along with its support: a list of boolean values, True indicating relevant features and False indicating irrelevant features."
   ]
  },
  {
   "cell_type": "code",
   "execution_count": 74,
   "id": "1dbb0e55-4313-4245-a636-f4a5886c4c0d",
   "metadata": {},
   "outputs": [
    {
     "data": {
      "text/plain": [
       "array([[<AxesSubplot:title={'center':'both_sexes'}>]], dtype=object)"
      ]
     },
     "execution_count": 74,
     "metadata": {},
     "output_type": "execute_result"
    },
    {
     "data": {
      "image/png": "[encoded data removed]",
      "text/plain": [
       "<Figure size 432x288 with 1 Axes>"
      ]
     },
     "metadata": {
      "needs_background": "light"
     },
     "output_type": "display_data"
    }
   ],
   "source": [
    "# It helps to know distributions of target before modeling\n",
    "y_train.hist()"
   ]
  },
  {
   "cell_type": "code",
   "execution_count": 75,
   "id": "577af115-0951-4c19-b98c-a4912459e2ac",
   "metadata": {},
   "outputs": [],
   "source": [
    "# Resembles a log normal, gamma, or poisson distribution. "
   ]
  },
  {
   "cell_type": "code",
   "execution_count": 34,
   "id": "cdacdc1e-cccd-4051-9f1d-3ac6d74d822a",
   "metadata": {},
   "outputs": [
    {
     "data": {
      "text/plain": [
       "0.6768256041954956"
      ]
     },
     "execution_count": 34,
     "metadata": {},
     "output_type": "execute_result"
    }
   ],
   "source": [
    "model = LinearRegression()\n",
    "model.fit(X_train[feature_mask], y_train)\n",
    "\n",
    "r2_score(y_train, model.predict(X_train[feature_mask]))"
   ]
  },
  {
   "cell_type": "code",
   "execution_count": 35,
   "id": "25aaf30e-2545-4994-b88e-bf6f49a9ef84",
   "metadata": {},
   "outputs": [
    {
     "data": {
      "text/plain": [
       "5.160011167281029"
      ]
     },
     "execution_count": 35,
     "metadata": {},
     "output_type": "execute_result"
    }
   ],
   "source": [
    "mean_squared_error(y_train, model.predict(X_train[feature_mask]), squared = False)"
   ]
  },
  {
   "cell_type": "code",
   "execution_count": 36,
   "id": "49f93881-e6fb-4529-bf3a-d45d3487f1b9",
   "metadata": {},
   "outputs": [],
   "source": [
    "results['linear_regression'] = {\n",
    "    'RMSE' : mean_squared_error(y_train, model.predict(X_train[feature_mask]), squared = False),\n",
    "    'R^2' : r2_score(y_train, model.predict(X_train[feature_mask])),\n",
    "    'RMSE_val' : mean_squared_error(y_validate, model.predict(X_validate[feature_mask]), squared = False),\n",
    "    'R^2_val' : r2_score(y_validate, model.predict(X_validate[feature_mask]))\n",
    "}"
   ]
  },
  {
   "cell_type": "code",
   "execution_count": 37,
   "id": "33e5ed29-3d2c-4440-9c1e-18952db2f1ea",
   "metadata": {},
   "outputs": [
    {
     "data": {
      "text/plain": [
       "{'baseline': {'RMSE': 9.076787512967103,\n",
       "  'R^2': 0.0,\n",
       "  'RMSE_val': 7.226867022642867,\n",
       "  'R^2_val': -0.15322056907666481},\n",
       " 'linear_regression': {'RMSE': 5.160011167281029,\n",
       "  'R^2': 0.6768256041954956,\n",
       "  'RMSE_val': 4.709374544061295,\n",
       "  'R^2_val': 0.5102902884941921}}"
      ]
     },
     "execution_count": 37,
     "metadata": {},
     "output_type": "execute_result"
    }
   ],
   "source": [
    "results"
   ]
  },
  {
   "cell_type": "code",
   "execution_count": 64,
   "id": "4a6c0253-06fc-44a7-9462-86aeb9379841",
   "metadata": {},
   "outputs": [
    {
     "data": {
      "text/plain": [
       "0.6768256041954956"
      ]
     },
     "execution_count": 64,
     "metadata": {},
     "output_type": "execute_result"
    }
   ],
   "source": [
    "# OLS\n",
    "model = LinearRegression(normalize=True)\n",
    "model.fit(X_train[feature_mask], y_train)\n",
    "\n",
    "r2_score(y_train, model.predict(X_train[feature_mask]))"
   ]
  },
  {
   "cell_type": "code",
   "execution_count": 65,
   "id": "c551cb3c-a916-4b3c-a5c2-2d3660296a3b",
   "metadata": {},
   "outputs": [
    {
     "data": {
      "text/plain": [
       "5.16001116728103"
      ]
     },
     "execution_count": 65,
     "metadata": {},
     "output_type": "execute_result"
    }
   ],
   "source": [
    "mean_squared_error(y_train, model.predict(X_train[feature_mask]), squared = False)"
   ]
  },
  {
   "cell_type": "code",
   "execution_count": 66,
   "id": "8107174a-4408-4c41-8828-963ff8157b77",
   "metadata": {},
   "outputs": [],
   "source": [
    "results['linear_regression_OLS'] = {\n",
    "    'RMSE' : mean_squared_error(y_train, model.predict(X_train[feature_mask]), squared = False),\n",
    "    'R^2' : r2_score(y_train, model.predict(X_train[feature_mask])),\n",
    "    'RMSE_val' : mean_squared_error(y_validate, model.predict(X_validate[feature_mask]), squared = False),\n",
    "    'R^2_val' : r2_score(y_validate, model.predict(X_validate[feature_mask]))\n",
    "}"
   ]
  },
  {
   "cell_type": "code",
   "execution_count": 68,
   "id": "84df2dc5-cd08-4aa3-8022-1ca8a883fd35",
   "metadata": {},
   "outputs": [
    {
     "data": {
      "text/plain": [
       "0.0"
      ]
     },
     "execution_count": 68,
     "metadata": {},
     "output_type": "execute_result"
    }
   ],
   "source": [
    "# LASSO + LARS\n",
    "\n",
    "model = LassoLars(alpha = 1.0)\n",
    "model.fit(X_train[feature_mask], y_train)\n",
    "\n",
    "r2_score(y_train, model.predict(X_train[feature_mask]))"
   ]
  },
  {
   "cell_type": "code",
   "execution_count": 69,
   "id": "003183a0-4849-4e3e-9df4-aae014fb69a8",
   "metadata": {},
   "outputs": [
    {
     "data": {
      "text/plain": [
       "9.076787512967103"
      ]
     },
     "execution_count": 69,
     "metadata": {},
     "output_type": "execute_result"
    }
   ],
   "source": [
    "mean_squared_error(y_train, model.predict(X_train[feature_mask]), squared = False)"
   ]
  },
  {
   "cell_type": "code",
   "execution_count": 70,
   "id": "f6285ab5-fb38-41d0-bf71-d2bea065aa8a",
   "metadata": {},
   "outputs": [],
   "source": [
    "results['LASSO+LARS'] = {\n",
    "    'RMSE' : mean_squared_error(y_train, model.predict(X_train[feature_mask]), squared = False),\n",
    "    'R^2' : r2_score(y_train, model.predict(X_train[feature_mask])),\n",
    "    'RMSE_val' : mean_squared_error(y_validate, model.predict(X_validate[feature_mask]), squared = False),\n",
    "    'R^2_val' : r2_score(y_validate, model.predict(X_validate[feature_mask]))\n",
    "}"
   ]
  },
  {
   "cell_type": "code",
   "execution_count": 76,
   "id": "12f7f7cf-3e07-4322-a225-1b550593023e",
   "metadata": {},
   "outputs": [
    {
     "data": {
      "text/plain": [
       "0.935812479644225"
      ]
     },
     "execution_count": 76,
     "metadata": {},
     "output_type": "execute_result"
    }
   ],
   "source": [
    "# Polynomial Regression\n",
    "poly = PolynomialFeatures(degree = 2, include_bias = False, interaction_only = False)\n",
    "poly.fit(X_train[feature_mask])\n",
    "\n",
    "X_train_poly = pd.DataFrame(\n",
    "    poly.transform(X_train[feature_mask]),\n",
    "    columns = poly.get_feature_names(X_train[feature_mask].columns),\n",
    "    index = X_train[feature_mask].index\n",
    ")\n",
    "\n",
    "model = LinearRegression()\n",
    "model.fit(X_train_poly, y_train)\n",
    "\n",
    "r2_score(y_train, model.predict(X_train_poly))"
   ]
  },
  {
   "cell_type": "code",
   "execution_count": 39,
   "id": "e4f3b07b-f075-4824-bb57-b58f271a72a3",
   "metadata": {},
   "outputs": [
    {
     "data": {
      "text/plain": [
       "2.2996273654758213"
      ]
     },
     "execution_count": 39,
     "metadata": {},
     "output_type": "execute_result"
    }
   ],
   "source": [
    "mean_squared_error(y_train, model.predict(X_train_poly), squared = False)"
   ]
  },
  {
   "cell_type": "code",
   "execution_count": 40,
   "id": "68927548-e714-4130-9521-8df4795d7cdf",
   "metadata": {},
   "outputs": [],
   "source": [
    "# Before we make predictions on validate we need to prepare the X_validate set with the polynomial features.\n",
    "poly = PolynomialFeatures(degree = 2, include_bias = False, interaction_only = False)\n",
    "poly.fit(X_validate[feature_mask])\n",
    "\n",
    "X_validate_poly = pd.DataFrame(\n",
    "    poly.transform(X_validate[feature_mask]),\n",
    "    columns = poly.get_feature_names(X_validate[feature_mask].columns),\n",
    "    index = X_validate[feature_mask].index\n",
    ")"
   ]
  },
  {
   "cell_type": "code",
   "execution_count": 41,
   "id": "de8a1bdc-d6ef-47d9-9ddb-382f93a3f12d",
   "metadata": {},
   "outputs": [],
   "source": [
    "results['polynomial_regression'] = {\n",
    "    'RMSE' : mean_squared_error(y_train, model.predict(X_train_poly), squared = False),\n",
    "    'R^2' : r2_score(y_train, model.predict(X_train_poly)),\n",
    "    'RMSE_val' : mean_squared_error(y_validate, model.predict(X_validate_poly), squared = False),\n",
    "    'R^2_val' : r2_score(y_validate, model.predict(X_validate_poly))\n",
    "}"
   ]
  },
  {
   "cell_type": "code",
   "execution_count": 42,
   "id": "7d1bffae-382a-4a22-b2c6-2d73638faef9",
   "metadata": {},
   "outputs": [
    {
     "data": {
      "text/plain": [
       "{'baseline': {'RMSE': 9.076787512967103,\n",
       "  'R^2': 0.0,\n",
       "  'RMSE_val': 7.226867022642867,\n",
       "  'R^2_val': -0.15322056907666481},\n",
       " 'linear_regression': {'RMSE': 5.160011167281029,\n",
       "  'R^2': 0.6768256041954956,\n",
       "  'RMSE_val': 4.709374544061295,\n",
       "  'R^2_val': 0.5102902884941921},\n",
       " 'polynomial_regression': {'RMSE': 2.2996273654758213,\n",
       "  'R^2': 0.935812479644225,\n",
       "  'RMSE_val': 9.803503394416884,\n",
       "  'R^2_val': -1.1221440481190181}}"
      ]
     },
     "execution_count": 42,
     "metadata": {},
     "output_type": "execute_result"
    }
   ],
   "source": [
    "results"
   ]
  },
  {
   "cell_type": "code",
   "execution_count": 44,
   "id": "cd43f0fa-3bce-4149-b4c1-fe2f1c8958ed",
   "metadata": {},
   "outputs": [
    {
     "data": {
      "text/plain": [
       "0.91417404288633"
      ]
     },
     "execution_count": 44,
     "metadata": {},
     "output_type": "execute_result"
    }
   ],
   "source": [
    "# Polynomial Regression with Interactions Only\n",
    "poly = PolynomialFeatures(degree = 2, include_bias = False, interaction_only = True)\n",
    "poly.fit(X_train[feature_mask])\n",
    "\n",
    "X_train_poly = pd.DataFrame(\n",
    "    poly.transform(X_train[feature_mask]),\n",
    "    columns = poly.get_feature_names(X_train[feature_mask].columns),\n",
    "    index = X_train[feature_mask].index\n",
    ")\n",
    "\n",
    "model = LinearRegression()\n",
    "model.fit(X_train_poly, y_train)\n",
    "\n",
    "r2_score(y_train, model.predict(X_train_poly))"
   ]
  },
  {
   "cell_type": "code",
   "execution_count": 45,
   "id": "70b76ba0-93b4-4f80-ac8e-4be7d2017852",
   "metadata": {},
   "outputs": [
    {
     "data": {
      "text/plain": [
       "2.6591417968970905"
      ]
     },
     "execution_count": 45,
     "metadata": {},
     "output_type": "execute_result"
    }
   ],
   "source": [
    "mean_squared_error(y_train, model.predict(X_train_poly), squared = False)"
   ]
  },
  {
   "cell_type": "code",
   "execution_count": 46,
   "id": "7a44fe9d-9916-4eda-952b-e7296af987de",
   "metadata": {},
   "outputs": [],
   "source": [
    "# We have to prepare the validate set again\n",
    "\n",
    "poly = PolynomialFeatures(degree = 2, include_bias = False, interaction_only = True)\n",
    "poly.fit(X_validate[feature_mask])\n",
    "\n",
    "X_validate_poly = pd.DataFrame(\n",
    "    poly.transform(X_validate[feature_mask]),\n",
    "    columns = poly.get_feature_names(X_validate[feature_mask].columns),\n",
    "    index = X_validate[feature_mask].index\n",
    ")"
   ]
  },
  {
   "cell_type": "code",
   "execution_count": 47,
   "id": "b189add9-0c9b-49a2-9b18-76ba80fe31d8",
   "metadata": {},
   "outputs": [],
   "source": [
    "results['polynomial_regression_interactions_only'] = {\n",
    "    'RMSE' : mean_squared_error(y_train, model.predict(X_train_poly), squared = False),\n",
    "    'R^2' : r2_score(y_train, model.predict(X_train_poly)),\n",
    "    'RMSE_val' : mean_squared_error(y_validate, model.predict(X_validate_poly), squared = False),\n",
    "    'R^2_val' : r2_score(y_validate, model.predict(X_validate_poly))\n",
    "}"
   ]
  },
  {
   "cell_type": "code",
   "execution_count": 48,
   "id": "e23f6d44-f3a0-46f4-bde6-785aaaa58ab8",
   "metadata": {},
   "outputs": [
    {
     "data": {
      "text/plain": [
       "{'baseline': {'RMSE': 9.076787512967103,\n",
       "  'R^2': 0.0,\n",
       "  'RMSE_val': 7.226867022642867,\n",
       "  'R^2_val': -0.15322056907666481},\n",
       " 'linear_regression': {'RMSE': 5.160011167281029,\n",
       "  'R^2': 0.6768256041954956,\n",
       "  'RMSE_val': 4.709374544061295,\n",
       "  'R^2_val': 0.5102902884941921},\n",
       " 'polynomial_regression': {'RMSE': 2.2996273654758213,\n",
       "  'R^2': 0.935812479644225,\n",
       "  'RMSE_val': 9.803503394416884,\n",
       "  'R^2_val': -1.1221440481190181},\n",
       " 'polynomial_regression_interactions_only': {'RMSE': 2.6591417968970905,\n",
       "  'R^2': 0.91417404288633,\n",
       "  'RMSE_val': 9.525111913393829,\n",
       "  'R^2_val': -1.0033296871086814}}"
      ]
     },
     "execution_count": 48,
     "metadata": {},
     "output_type": "execute_result"
    }
   ],
   "source": [
    "results"
   ]
  },
  {
   "cell_type": "code",
   "execution_count": 49,
   "id": "a4c23fd1-a3ed-402f-8a88-687b06d9a935",
   "metadata": {},
   "outputs": [
    {
     "data": {
      "text/plain": [
       "0.7052060775560658"
      ]
     },
     "execution_count": 49,
     "metadata": {},
     "output_type": "execute_result"
    }
   ],
   "source": [
    "# Tweedie with Power of 1: Poisson distribution\n",
    "# No collinearities from RFE is assumed, so alpha 0\n",
    "\n",
    "model = TweedieRegressor(power = 1, alpha = 0)\n",
    "model.fit(X_train[feature_mask], y_train)\n",
    "\n",
    "r2_score(y_train, model.predict(X_train[feature_mask]))"
   ]
  },
  {
   "cell_type": "code",
   "execution_count": 51,
   "id": "cf51dda9-5480-4b45-a6ae-00023224c7f8",
   "metadata": {},
   "outputs": [
    {
     "data": {
      "text/plain": [
       "4.9282352598525305"
      ]
     },
     "execution_count": 51,
     "metadata": {},
     "output_type": "execute_result"
    }
   ],
   "source": [
    "mean_squared_error(y_train, model.predict(X_train[feature_mask]), squared = False)"
   ]
  },
  {
   "cell_type": "code",
   "execution_count": 52,
   "id": "f939166d-24a7-4004-a1b5-d0d9c2277bb8",
   "metadata": {},
   "outputs": [],
   "source": [
    "results['tweedie_regressor_poisson'] = {\n",
    "    'RMSE' : mean_squared_error(y_train, model.predict(X_train[feature_mask]), squared = False),\n",
    "    'R^2' : r2_score(y_train, model.predict(X_train[feature_mask])),\n",
    "    'RMSE_val' : mean_squared_error(y_validate, model.predict(X_validate[feature_mask]), squared = False),\n",
    "    'R^2_val' : r2_score(y_validate, model.predict(X_validate[feature_mask]))\n",
    "}"
   ]
  },
  {
   "cell_type": "code",
   "execution_count": 53,
   "id": "39c2381a-aeac-4669-9275-45311bef0810",
   "metadata": {},
   "outputs": [
    {
     "data": {
      "text/plain": [
       "0.6958990391145662"
      ]
     },
     "execution_count": 53,
     "metadata": {},
     "output_type": "execute_result"
    }
   ],
   "source": [
    "# Tweedie with Power of 1.5: Compound Poisson Gamma distribution\n",
    "# No collinearities from RFE is assumed, so alpha 0\n",
    "\n",
    "model = TweedieRegressor(power = 1.5, alpha = 0)\n",
    "model.fit(X_train[feature_mask], y_train)\n",
    "\n",
    "r2_score(y_train, model.predict(X_train[feature_mask]))"
   ]
  },
  {
   "cell_type": "code",
   "execution_count": 54,
   "id": "4781b2c8-2301-443c-a330-858d2b35f7d2",
   "metadata": {},
   "outputs": [
    {
     "data": {
      "text/plain": [
       "5.0054262281590285"
      ]
     },
     "execution_count": 54,
     "metadata": {},
     "output_type": "execute_result"
    }
   ],
   "source": [
    "mean_squared_error(y_train, model.predict(X_train[feature_mask]), squared = False)"
   ]
  },
  {
   "cell_type": "code",
   "execution_count": 55,
   "id": "fc6552d7-2d8e-40a3-a152-537ba2702a41",
   "metadata": {},
   "outputs": [],
   "source": [
    "results['tweedie_regressor_compound_poisson_gamma'] = {\n",
    "    'RMSE' : mean_squared_error(y_train, model.predict(X_train[feature_mask]), squared = False),\n",
    "    'R^2' : r2_score(y_train, model.predict(X_train[feature_mask])),\n",
    "    'RMSE_val' : mean_squared_error(y_validate, model.predict(X_validate[feature_mask]), squared = False),\n",
    "    'R^2_val' : r2_score(y_validate, model.predict(X_validate[feature_mask]))\n",
    "}"
   ]
  },
  {
   "cell_type": "code",
   "execution_count": 61,
   "id": "2372ab82-a31b-4f0e-b032-a2d7ce01e823",
   "metadata": {},
   "outputs": [],
   "source": [
    "# it got even lower with power of 2. Moving on"
   ]
  },
  {
   "cell_type": "code",
   "execution_count": 71,
   "id": "9ce52914-3953-41b3-8ce0-64c9d9ed37e0",
   "metadata": {},
   "outputs": [
    {
     "data": {
      "text/html": [
       "<div><div id=e8151a31-3494-4571-94bf-2cb06d38d73e style=\"display:none; background-color:#9D6CFF; color:white; width:200px; height:30px; padding-left:5px; border-radius:4px; flex-direction:row; justify-content:space-around; align-items:center;\" onmouseover=\"this.style.backgroundColor='#BA9BF8'\" onmouseout=\"this.style.backgroundColor='#9D6CFF'\" onclick=\"window.commands?.execute('create-mitosheet-from-dataframe-output');\">See Full Dataframe in Mito</div> <script> if (window.commands.hasCommand('create-mitosheet-from-dataframe-output')) document.getElementById('e8151a31-3494-4571-94bf-2cb06d38d73e').style.display = 'flex' </script> <table border=\"1\" class=\"dataframe\">\n",
       "  <thead>\n",
       "    <tr style=\"text-align: right;\">\n",
       "      <th></th>\n",
       "      <th>RMSE</th>\n",
       "      <th>R^2</th>\n",
       "      <th>RMSE_val</th>\n",
       "      <th>R^2_val</th>\n",
       "    </tr>\n",
       "  </thead>\n",
       "  <tbody>\n",
       "    <tr>\n",
       "      <th>baseline</th>\n",
       "      <td>9.076788</td>\n",
       "      <td>0.000000</td>\n",
       "      <td>7.226867</td>\n",
       "      <td>-0.153221</td>\n",
       "    </tr>\n",
       "    <tr>\n",
       "      <th>linear_regression</th>\n",
       "      <td>5.160011</td>\n",
       "      <td>0.676826</td>\n",
       "      <td>4.709375</td>\n",
       "      <td>0.510290</td>\n",
       "    </tr>\n",
       "    <tr>\n",
       "      <th>polynomial_regression</th>\n",
       "      <td>2.299627</td>\n",
       "      <td>0.935812</td>\n",
       "      <td>9.803503</td>\n",
       "      <td>-1.122144</td>\n",
       "    </tr>\n",
       "    <tr>\n",
       "      <th>polynomial_regression_interactions_only</th>\n",
       "      <td>2.659142</td>\n",
       "      <td>0.914174</td>\n",
       "      <td>9.525112</td>\n",
       "      <td>-1.003330</td>\n",
       "    </tr>\n",
       "    <tr>\n",
       "      <th>tweedie_regressor_poisson</th>\n",
       "      <td>4.928235</td>\n",
       "      <td>0.705206</td>\n",
       "      <td>4.679829</td>\n",
       "      <td>0.516416</td>\n",
       "    </tr>\n",
       "    <tr>\n",
       "      <th>tweedie_regressor_compound_poisson_gamma</th>\n",
       "      <td>5.005426</td>\n",
       "      <td>0.695899</td>\n",
       "      <td>4.701445</td>\n",
       "      <td>0.511938</td>\n",
       "    </tr>\n",
       "    <tr>\n",
       "      <th>linear_regression_OLS</th>\n",
       "      <td>5.160011</td>\n",
       "      <td>0.676826</td>\n",
       "      <td>4.709375</td>\n",
       "      <td>0.510290</td>\n",
       "    </tr>\n",
       "    <tr>\n",
       "      <th>LASSO+LARS</th>\n",
       "      <td>9.076788</td>\n",
       "      <td>0.000000</td>\n",
       "      <td>7.226867</td>\n",
       "      <td>-0.153221</td>\n",
       "    </tr>\n",
       "  </tbody>\n",
       "</table></div>"
      ],
      "text/plain": [
       "                                              RMSE       R^2  RMSE_val  \\\n",
       "baseline                                  9.076788  0.000000  7.226867   \n",
       "linear_regression                         5.160011  0.676826  4.709375   \n",
       "polynomial_regression                     2.299627  0.935812  9.803503   \n",
       "polynomial_regression_interactions_only   2.659142  0.914174  9.525112   \n",
       "tweedie_regressor_poisson                 4.928235  0.705206  4.679829   \n",
       "tweedie_regressor_compound_poisson_gamma  5.005426  0.695899  4.701445   \n",
       "linear_regression_OLS                     5.160011  0.676826  4.709375   \n",
       "LASSO+LARS                                9.076788  0.000000  7.226867   \n",
       "\n",
       "                                           R^2_val  \n",
       "baseline                                 -0.153221  \n",
       "linear_regression                         0.510290  \n",
       "polynomial_regression                    -1.122144  \n",
       "polynomial_regression_interactions_only  -1.003330  \n",
       "tweedie_regressor_poisson                 0.516416  \n",
       "tweedie_regressor_compound_poisson_gamma  0.511938  \n",
       "linear_regression_OLS                     0.510290  \n",
       "LASSO+LARS                               -0.153221  "
      ]
     },
     "execution_count": 71,
     "metadata": {},
     "output_type": "execute_result"
    }
   ],
   "source": [
    "pd.DataFrame(results).T"
   ]
  },
  {
   "cell_type": "markdown",
   "id": "e9315cf1-354c-4a7f-bed6-32752677a7da",
   "metadata": {},
   "source": [
    "R-Squared is the ratio of the Explained Sum of Squares (ESS) to the Total Sum of Squares (TSS). t is the explained variance by its very definition. \n",
    "Explained variance (also called explained variation) is used to measure the discrepancy between a model and actual data. In other words, it’s the part of the model’s total variance that is explained by factors that are actually present and isn’t due to error variance.\n",
    "\n",
    "Higher percentages of explained variance indicates a stronger strength of association. It also means that you make better predictions (Rosenthal & Rosenthal, 2011)."
   ]
  },
  {
   "cell_type": "code",
   "execution_count": 83,
   "id": "b83185c2-fa5e-480c-9539-0c33161daab1",
   "metadata": {},
   "outputs": [],
   "source": [
    "# Fit best performing model on test \n",
    "\n",
    "# Polynomial Regression\n",
    "poly = PolynomialFeatures(degree = 2, include_bias = False, interaction_only = False)\n",
    "poly.fit(X_test[feature_mask])\n",
    "\n",
    "X_test_poly = pd.DataFrame(\n",
    "    poly.transform(X_test[feature_mask]),\n",
    "    columns = poly.get_feature_names(X_train[feature_mask].columns),\n",
    "    index = X_test[feature_mask].index\n",
    ")\n",
    "\n",
    "model = LinearRegression()\n",
    "model.fit(X_test_poly, y_test)\n",
    "\n",
    "r2_score(y_test, model.predict(X_test_poly))\n",
    "\n",
    "results['TEST_polynomial_regression'] = {\n",
    "    'RMSE' : mean_squared_error(y_test, model.predict(X_test_poly), squared = False),\n",
    "    'R^2' : r2_score(y_test, model.predict(X_test_poly))\n",
    "}"
   ]
  },
  {
   "cell_type": "code",
   "execution_count": 85,
   "id": "09b12259-17ff-4014-a994-7a5e49a0a2f7",
   "metadata": {},
   "outputs": [
    {
     "data": {
      "text/html": [
       "<div><div id=61b2d1a6-99fd-47f6-a2f1-025fa0f96986 style=\"display:none; background-color:#9D6CFF; color:white; width:200px; height:30px; padding-left:5px; border-radius:4px; flex-direction:row; justify-content:space-around; align-items:center;\" onmouseover=\"this.style.backgroundColor='#BA9BF8'\" onmouseout=\"this.style.backgroundColor='#9D6CFF'\" onclick=\"window.commands?.execute('create-mitosheet-from-dataframe-output');\">See Full Dataframe in Mito</div> <script> if (window.commands.hasCommand('create-mitosheet-from-dataframe-output')) document.getElementById('61b2d1a6-99fd-47f6-a2f1-025fa0f96986').style.display = 'flex' </script> <table border=\"1\" class=\"dataframe\">\n",
       "  <thead>\n",
       "    <tr style=\"text-align: right;\">\n",
       "      <th></th>\n",
       "      <th>RMSE</th>\n",
       "      <th>R^2</th>\n",
       "      <th>RMSE_val</th>\n",
       "      <th>R^2_val</th>\n",
       "    </tr>\n",
       "  </thead>\n",
       "  <tbody>\n",
       "    <tr>\n",
       "      <th>baseline</th>\n",
       "      <td>9.076788</td>\n",
       "      <td>0.000000</td>\n",
       "      <td>7.226867</td>\n",
       "      <td>-0.153221</td>\n",
       "    </tr>\n",
       "    <tr>\n",
       "      <th>linear_regression</th>\n",
       "      <td>5.160011</td>\n",
       "      <td>0.676826</td>\n",
       "      <td>4.709375</td>\n",
       "      <td>0.510290</td>\n",
       "    </tr>\n",
       "    <tr>\n",
       "      <th>polynomial_regression</th>\n",
       "      <td>2.299627</td>\n",
       "      <td>0.935812</td>\n",
       "      <td>9.803503</td>\n",
       "      <td>-1.122144</td>\n",
       "    </tr>\n",
       "    <tr>\n",
       "      <th>polynomial_regression_interactions_only</th>\n",
       "      <td>2.659142</td>\n",
       "      <td>0.914174</td>\n",
       "      <td>9.525112</td>\n",
       "      <td>-1.003330</td>\n",
       "    </tr>\n",
       "    <tr>\n",
       "      <th>tweedie_regressor_poisson</th>\n",
       "      <td>4.928235</td>\n",
       "      <td>0.705206</td>\n",
       "      <td>4.679829</td>\n",
       "      <td>0.516416</td>\n",
       "    </tr>\n",
       "    <tr>\n",
       "      <th>tweedie_regressor_compound_poisson_gamma</th>\n",
       "      <td>5.005426</td>\n",
       "      <td>0.695899</td>\n",
       "      <td>4.701445</td>\n",
       "      <td>0.511938</td>\n",
       "    </tr>\n",
       "    <tr>\n",
       "      <th>linear_regression_OLS</th>\n",
       "      <td>5.160011</td>\n",
       "      <td>0.676826</td>\n",
       "      <td>4.709375</td>\n",
       "      <td>0.510290</td>\n",
       "    </tr>\n",
       "    <tr>\n",
       "      <th>LASSO+LARS</th>\n",
       "      <td>9.076788</td>\n",
       "      <td>0.000000</td>\n",
       "      <td>7.226867</td>\n",
       "      <td>-0.153221</td>\n",
       "    </tr>\n",
       "    <tr>\n",
       "      <th>TEST_polynomial_regression</th>\n",
       "      <td>0.475029</td>\n",
       "      <td>0.990201</td>\n",
       "      <td>NaN</td>\n",
       "      <td>NaN</td>\n",
       "    </tr>\n",
       "  </tbody>\n",
       "</table></div>"
      ],
      "text/plain": [
       "                                              RMSE       R^2  RMSE_val  \\\n",
       "baseline                                  9.076788  0.000000  7.226867   \n",
       "linear_regression                         5.160011  0.676826  4.709375   \n",
       "polynomial_regression                     2.299627  0.935812  9.803503   \n",
       "polynomial_regression_interactions_only   2.659142  0.914174  9.525112   \n",
       "tweedie_regressor_poisson                 4.928235  0.705206  4.679829   \n",
       "tweedie_regressor_compound_poisson_gamma  5.005426  0.695899  4.701445   \n",
       "linear_regression_OLS                     5.160011  0.676826  4.709375   \n",
       "LASSO+LARS                                9.076788  0.000000  7.226867   \n",
       "TEST_polynomial_regression                0.475029  0.990201       NaN   \n",
       "\n",
       "                                           R^2_val  \n",
       "baseline                                 -0.153221  \n",
       "linear_regression                         0.510290  \n",
       "polynomial_regression                    -1.122144  \n",
       "polynomial_regression_interactions_only  -1.003330  \n",
       "tweedie_regressor_poisson                 0.516416  \n",
       "tweedie_regressor_compound_poisson_gamma  0.511938  \n",
       "linear_regression_OLS                     0.510290  \n",
       "LASSO+LARS                               -0.153221  \n",
       "TEST_polynomial_regression                     NaN  "
      ]
     },
     "execution_count": 85,
     "metadata": {},
     "output_type": "execute_result"
    }
   ],
   "source": [
    "pd.DataFrame(results).T"
   ]
  },
  {
   "cell_type": "code",
   "execution_count": null,
   "id": "03b61f5c-a1ad-40fe-b3d4-fa37c9f4e442",
   "metadata": {},
   "outputs": [],
   "source": []
  }
 ],
 "metadata": {
  "kernelspec": {
   "display_name": "Python 3 (ipykernel)",
   "language": "python",
   "name": "python3"
  },
  "language_info": {
   "codemirror_mode": {
    "name": "ipython",
    "version": 3
   },
   "file_extension": ".py",
   "mimetype": "text/x-python",
   "name": "python",
   "nbconvert_exporter": "python",
   "pygments_lexer": "ipython3",
   "version": "3.9.7"
  }
 },
 "nbformat": 4,
 "nbformat_minor": 5
}
